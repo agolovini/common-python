{
 "cells": [
  {
   "cell_type": "code",
   "execution_count": 17,
   "id": "760715f6",
   "metadata": {
    "scrolled": true
   },
   "outputs": [],
   "source": [
    "import sqlite3\n",
    "import pandas as pd\n",
    "\n",
    "con=sqlite3.connect('database.db')\n",
    "wb=pd.ExcelFile('/Users/user/Desktop/job_/сбермегамаркет/test_sql_sber.XLSX')\n",
    "for sheet in wb.sheet_names:\n",
    "        df=pd.read_excel('/Users/user/Desktop/job_/сбермегамаркет/test_sql_sber.XLSX',sheet_name=sheet)\n",
    "        df.to_sql(sheet, con, index=False,if_exists=\"replace\")\n",
    "con.commit()\n",
    "con.close()"
   ]
  }
 ],
 "metadata": {
  "kernelspec": {
   "display_name": "Python 3 (ipykernel)",
   "language": "python",
   "name": "python3"
  },
  "language_info": {
   "codemirror_mode": {
    "name": "ipython",
    "version": 3
   },
   "file_extension": ".py",
   "mimetype": "text/x-python",
   "name": "python",
   "nbconvert_exporter": "python",
   "pygments_lexer": "ipython3",
   "version": "3.9.13"
  }
 },
 "nbformat": 4,
 "nbformat_minor": 5
}
